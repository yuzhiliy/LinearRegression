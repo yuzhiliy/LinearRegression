{
 "cells": [
  {
   "cell_type": "markdown",
   "id": "07e7a032",
   "metadata": {},
   "source": [
    "### 数据加载与探索"
   ]
  },
  {
   "cell_type": "code",
   "execution_count": 18,
   "id": "152c6c10",
   "metadata": {},
   "outputs": [],
   "source": [
    "import numpy as np\n",
    "import pandas as pd\n",
    "import matplotlib.pyplot as plt\n",
    "from sklearn.datasets import load_breast_cancer\n",
    "from sklearn.model_selection import train_test_split\n",
    "from sklearn.preprocessing import StandardScaler\n",
    "from sklearn.linear_model import LogisticRegression\n",
    "from sklearn.metrics import accuracy_score, confusion_matrix, roc_curve, auc\n"
   ]
  },
  {
   "cell_type": "code",
   "execution_count": 19,
   "id": "a2aa6646",
   "metadata": {},
   "outputs": [
    {
     "name": "stdout",
     "output_type": "stream",
     "text": [
      "特征名称: ['mean radius' 'mean texture' 'mean perimeter' 'mean area'\n",
      " 'mean smoothness' 'mean compactness' 'mean concavity'\n",
      " 'mean concave points' 'mean symmetry' 'mean fractal dimension'\n",
      " 'radius error' 'texture error' 'perimeter error' 'area error'\n",
      " 'smoothness error' 'compactness error' 'concavity error'\n",
      " 'concave points error' 'symmetry error' 'fractal dimension error'\n",
      " 'worst radius' 'worst texture' 'worst perimeter' 'worst area'\n",
      " 'worst smoothness' 'worst compactness' 'worst concavity'\n",
      " 'worst concave points' 'worst symmetry' 'worst fractal dimension']\n",
      "样本数: 569 特征数: 30\n",
      "标签分布:\n",
      " 1    357\n",
      "0    212\n",
      "Name: count, dtype: int64\n",
      "     mean radius  mean texture  mean perimeter  mean area  mean smoothness  \\\n",
      "394       12.100         17.72           78.07      446.2          0.10290   \n",
      "523       13.710         18.68           88.73      571.0          0.09916   \n",
      "447       14.800         17.66           95.88      674.8          0.09179   \n",
      "110        9.777         16.99           62.50      290.2          0.10370   \n",
      "219       19.530         32.47          128.00     1223.0          0.08420   \n",
      "\n",
      "     mean compactness  mean concavity  mean concave points  mean symmetry  \\\n",
      "394           0.09758         0.04783              0.03326         0.1937   \n",
      "523           0.10700         0.05385              0.03783         0.1714   \n",
      "447           0.08890         0.04069              0.02260         0.1893   \n",
      "110           0.08404         0.04334              0.01778         0.1584   \n",
      "219           0.11300         0.11450              0.06637         0.1428   \n",
      "\n",
      "     mean fractal dimension  ...  worst texture  worst perimeter  worst area  \\\n",
      "394                 0.06161  ...          25.80            88.33       559.5   \n",
      "523                 0.06843  ...          25.63            99.43       701.9   \n",
      "447                 0.05886  ...          22.74           105.90       829.5   \n",
      "110                 0.07065  ...          21.47            71.68       367.0   \n",
      "219                 0.05313  ...          45.41           180.20      2477.0   \n",
      "\n",
      "     worst smoothness  worst compactness  worst concavity  \\\n",
      "394            0.1432             0.1773           0.1603   \n",
      "523            0.1425             0.2566           0.1935   \n",
      "447            0.1226             0.1881           0.2060   \n",
      "110            0.1467             0.1765           0.1300   \n",
      "219            0.1408             0.4097           0.3995   \n",
      "\n",
      "     worst concave points  worst symmetry  worst fractal dimension  target  \n",
      "394               0.06266          0.3049                  0.07081       1  \n",
      "523               0.12840          0.2849                  0.09031       1  \n",
      "447               0.08308          0.3600                  0.07285       1  \n",
      "110               0.05334          0.2533                  0.08468       1  \n",
      "219               0.16250          0.2713                  0.07568       0  \n",
      "\n",
      "[5 rows x 31 columns]\n"
     ]
    }
   ],
   "source": [
    "### 加载数据集(数据集是列表形式，要先转换为pandas的数据类型)\n",
    "data = load_breast_cancer()\n",
    "X = data.data # 特征矩阵（569x30）\n",
    "y = data.target # 标签（0=恶性，1=良性）\n",
    "\n",
    "### 查看数据基本信息\n",
    "print(\"特征名称:\", data.feature_names)\n",
    "print(\"样本数:\", X.shape[0], \"特征数:\", X.shape[1])\n",
    "print(\"标签分布:\\n\", pd.Series(y).value_counts()) # value_counts统计某列中每个唯一值出现的次数,按降序排列\n",
    "\n",
    "### 随即查看5条样本\n",
    "df = pd.DataFrame(X, columns=data.feature_names) # .feature_names是数据集bunch对象的一个属性用于存储特征名称列表\n",
    "df['target'] = y # dataframe的新增操作，添加一列target值为y\n",
    "print(df.sample(5)) # sample(5)随机抽取5项\n"
   ]
  },
  {
   "cell_type": "markdown",
   "id": "636086f9",
   "metadata": {},
   "source": [
    "### 数据预处理"
   ]
  },
  {
   "cell_type": "code",
   "execution_count": 20,
   "id": "cd14de8a",
   "metadata": {},
   "outputs": [
    {
     "name": "stdout",
     "output_type": "stream",
     "text": [
      "训练集维度: (455, 30)\n",
      "测试集维度: (114, 30)\n"
     ]
    }
   ],
   "source": [
    "### 划分数据集和测试集\n",
    "X_train, X_test, y_train, y_test = train_test_split(X, y, test_size=0.2, random_state=42) # random_state是固定每次随机划分结果相同，42没有特殊含义\n",
    "\n",
    "### 标准化特征（逻辑回归对特征尺度敏感）\n",
    "scaler = StandardScaler()\n",
    "X_train_scaled = scaler.fit_transform(X_train)\n",
    "X_test_scaled = scaler.fit_transform(X_test)\n",
    "\n",
    "print(\"训练集维度:\", X_train_scaled.shape)\n",
    "print(\"测试集维度:\", X_test_scaled.shape)"
   ]
  },
  {
   "cell_type": "markdown",
   "id": "dc84945f",
   "metadata": {},
   "source": [
    "### 手动实现逻辑回归"
   ]
  },
  {
   "cell_type": "code",
   "execution_count": 21,
   "id": "686e24ac",
   "metadata": {},
   "outputs": [],
   "source": [
    "class LogisticRegressionManual:\n",
    "    def __init__(self, learning_rate=0.01, n_iters=1000):\n",
    "        self.lr = learning_rate\n",
    "        self.n_iters = n_iters\n",
    "        self.weights = None\n",
    "        self.bias = None\n",
    "        \n",
    "    def _sigmoid(self, z):\n",
    "        \"\"\"Sigmoid函数，将线性输出映射到[0, 1]概率\"\"\"\n",
    "        return 1 / (1 + np.exp(-z))\n",
    "    def fit(self, X, y):\n",
    "        n_samples, n_features = X.shape\n",
    "        self.weights = np.zeros(n_features)\n",
    "        self.bias = 0\n",
    "        \n",
    "        ### 梯度下降优化\n",
    "        for _ in range(self.n_iters):\n",
    "            ### 计算预测概率\n",
    "            linear_model = np.dot(X, self.weights) + self.bias\n",
    "            y_pred = self._sigmoid(linear_model)\n",
    "            \n",
    "            ### 计算梯度\n",
    "            dw = (1 / n_samples) * np.dot(X.T, (y_pred - y))\n",
    "            db = (1 / n_samples) * np.sum(y_pred - y)\n",
    "            \n",
    "            ### 更新参数\n",
    "            self.weights -= self.lr * dw\n",
    "            self.bias -= self.lr * db\n",
    "            \n",
    "    def predict_proba(self, X):\n",
    "        \"\"\"返回每个样本属于类别1的概率\"\"\"\n",
    "        linear_model = np.dot(X, self.weights) + self.bias\n",
    "        return self._sigmoid(linear_model)\n",
    "    \n",
    "    def predict(self, X, threshold=0.5):\n",
    "        \"\"\"根据阈值返回类别\"\"\"\n",
    "        proba = self.predict_proba(X)\n",
    "        return (proba >= threshold).astype(int) # 转换类型为整数\n",
    "    \n",
    "### 训练手动实现的模型\n",
    "manual_model = LogisticRegressionManual(learning_rate=0.01, n_iters = 2000)\n",
    "manual_model.fit(X_train_scaled, y_train)\n",
    "\n",
    "### 预测测试集\n",
    "y_pred_manual = manual_model.predict(X_test_scaled)\n",
    "y_proba_manual = manual_model.predict_proba(X_test_scaled)\n",
    "    "
   ]
  },
  {
   "cell_type": "markdown",
   "id": "c711f503",
   "metadata": {},
   "source": [
    "### sklearn实现"
   ]
  },
  {
   "cell_type": "code",
   "execution_count": 22,
   "id": "d31838d6",
   "metadata": {},
   "outputs": [],
   "source": [
    "### 创建并训练模型\n",
    "sklearn_model = LogisticRegression(max_iter=2000)\n",
    "sklearn_model.fit(X_train_scaled, y_train)\n",
    "\n",
    "### 预测测试集\n",
    "y_pred_sklearn = sklearn_model.predict(X_test_scaled)\n",
    "y_proba_sklearn = sklearn_model.predict_proba(X_test_scaled)[:, 1] # 取类别为1的概率\n"
   ]
  },
  {
   "cell_type": "markdown",
   "id": "3a9ef46d",
   "metadata": {},
   "source": [
    "### 模型评估和可视化"
   ]
  },
  {
   "cell_type": "code",
   "execution_count": 23,
   "id": "79c4567f",
   "metadata": {
    "scrolled": false
   },
   "outputs": [
    {
     "name": "stdout",
     "output_type": "stream",
     "text": [
      "\n",
      "[手动实现] 准确率: 0.982\n",
      "[手动实现] 混淆矩阵:\n",
      " [[41  2]\n",
      " [ 0 71]]\n",
      "\n",
      "[Sklearn实现] 准确率: 0.982\n",
      "[Sklearn实现] 混淆矩阵:\n",
      " [[41  2]\n",
      " [ 0 71]]\n"
     ]
    },
    {
     "name": "stderr",
     "output_type": "stream",
     "text": [
      "D:\\anaconda\\envs\\rurie\\Lib\\site-packages\\IPython\\core\\pylabtools.py:170: UserWarning: Glyph 30495 (\\N{CJK UNIFIED IDEOGRAPH-771F}) missing from font(s) DejaVu Sans.\n",
      "  fig.canvas.print_figure(bytes_io, **kw)\n",
      "D:\\anaconda\\envs\\rurie\\Lib\\site-packages\\IPython\\core\\pylabtools.py:170: UserWarning: Glyph 27491 (\\N{CJK UNIFIED IDEOGRAPH-6B63}) missing from font(s) DejaVu Sans.\n",
      "  fig.canvas.print_figure(bytes_io, **kw)\n",
      "D:\\anaconda\\envs\\rurie\\Lib\\site-packages\\IPython\\core\\pylabtools.py:170: UserWarning: Glyph 29575 (\\N{CJK UNIFIED IDEOGRAPH-7387}) missing from font(s) DejaVu Sans.\n",
      "  fig.canvas.print_figure(bytes_io, **kw)\n",
      "D:\\anaconda\\envs\\rurie\\Lib\\site-packages\\IPython\\core\\pylabtools.py:170: UserWarning: Glyph 26354 (\\N{CJK UNIFIED IDEOGRAPH-66F2}) missing from font(s) DejaVu Sans.\n",
      "  fig.canvas.print_figure(bytes_io, **kw)\n",
      "D:\\anaconda\\envs\\rurie\\Lib\\site-packages\\IPython\\core\\pylabtools.py:170: UserWarning: Glyph 32447 (\\N{CJK UNIFIED IDEOGRAPH-7EBF}) missing from font(s) DejaVu Sans.\n",
      "  fig.canvas.print_figure(bytes_io, **kw)\n",
      "D:\\anaconda\\envs\\rurie\\Lib\\site-packages\\IPython\\core\\pylabtools.py:170: UserWarning: Glyph 23545 (\\N{CJK UNIFIED IDEOGRAPH-5BF9}) missing from font(s) DejaVu Sans.\n",
      "  fig.canvas.print_figure(bytes_io, **kw)\n",
      "D:\\anaconda\\envs\\rurie\\Lib\\site-packages\\IPython\\core\\pylabtools.py:170: UserWarning: Glyph 27604 (\\N{CJK UNIFIED IDEOGRAPH-6BD4}) missing from font(s) DejaVu Sans.\n",
      "  fig.canvas.print_figure(bytes_io, **kw)\n",
      "D:\\anaconda\\envs\\rurie\\Lib\\site-packages\\IPython\\core\\pylabtools.py:170: UserWarning: Glyph 20551 (\\N{CJK UNIFIED IDEOGRAPH-5047}) missing from font(s) DejaVu Sans.\n",
      "  fig.canvas.print_figure(bytes_io, **kw)\n",
      "D:\\anaconda\\envs\\rurie\\Lib\\site-packages\\IPython\\core\\pylabtools.py:170: UserWarning: Glyph 25163 (\\N{CJK UNIFIED IDEOGRAPH-624B}) missing from font(s) DejaVu Sans.\n",
      "  fig.canvas.print_figure(bytes_io, **kw)\n",
      "D:\\anaconda\\envs\\rurie\\Lib\\site-packages\\IPython\\core\\pylabtools.py:170: UserWarning: Glyph 21160 (\\N{CJK UNIFIED IDEOGRAPH-52A8}) missing from font(s) DejaVu Sans.\n",
      "  fig.canvas.print_figure(bytes_io, **kw)\n",
      "D:\\anaconda\\envs\\rurie\\Lib\\site-packages\\IPython\\core\\pylabtools.py:170: UserWarning: Glyph 23454 (\\N{CJK UNIFIED IDEOGRAPH-5B9E}) missing from font(s) DejaVu Sans.\n",
      "  fig.canvas.print_figure(bytes_io, **kw)\n",
      "D:\\anaconda\\envs\\rurie\\Lib\\site-packages\\IPython\\core\\pylabtools.py:170: UserWarning: Glyph 29616 (\\N{CJK UNIFIED IDEOGRAPH-73B0}) missing from font(s) DejaVu Sans.\n",
      "  fig.canvas.print_figure(bytes_io, **kw)\n"
     ]
    },
    {
     "data": {
      "image/png": "[encoded data removed]",
      "text/plain": [
       "<Figure size 800x600 with 1 Axes>"
      ]
     },
     "metadata": {},
     "output_type": "display_data"
    },
    {
     "name": "stdout",
     "output_type": "stream",
     "text": [
      "\n",
      "TOP 5重要特征:\n",
      "worst texture: 权重绝对值=1.351\n",
      "radius error: 权重绝对值=1.268\n",
      "worst symmetry: 权重绝对值=1.208\n",
      "mean concave points: 权重绝对值=1.120\n",
      "worst concavity: 权重绝对值=0.943\n"
     ]
    }
   ],
   "source": [
    "### 评估指标\n",
    "def evaluate_model(y_true, y_pred, y_proba, model_name):\n",
    "    acc = accuracy_score(y_true, y_pred)\n",
    "    cm = confusion_matrix(y_true, y_pred)\n",
    "    fpr, tpr, _ = roc_curve(y_true, y_proba)\n",
    "    roc_auc = auc(fpr, tpr)\n",
    "    \n",
    "    print(f\"\\n[{model_name}] 准确率: {acc:.3f}\")\n",
    "    print(f\"[{model_name}] 混淆矩阵:\\n\", cm)\n",
    "    \n",
    "    # 绘制ROC曲线\n",
    "    plt.plot(fpr, tpr, label=f'{model_name} (AUC = {roc_auc:.2f})')\n",
    "\n",
    "### 对比两个模型\n",
    "plt.figure(figsize=(8, 6))\n",
    "evaluate_model(y_test, y_pred_manual, y_proba_manual, \"手动实现\")\n",
    "evaluate_model(y_test, y_pred_sklearn, y_proba_sklearn, \"Sklearn实现\")\n",
    "plt.plot([0, 1], [0, 1], 'k--') # 从（0，0）到（1，1）绘制一条对角线，k表黑色，--表虚线，roc曲线越接近对角线是效果越好\n",
    "plt.xlabel('假正率 (FPR)')\n",
    "plt.ylabel('真正率 (TPR)')\n",
    "plt.title('ROC曲线对比')\n",
    "plt.legend() # 自动生成图例\n",
    "plt.show()\n",
    "\n",
    "### 输出特征的重要性（权重）\n",
    "top_features = 5\n",
    "sorted_indices = np.argsort(np.abs(sklearn_model.coef_[0]))[::-1] # argsort获取从小到大的索引，取逆为从大到小\n",
    "print(\"\\nTOP 5重要特征:\")\n",
    "for i in range(top_features):\n",
    "    idx = sorted_indices[i]\n",
    "    print(f\"{data.feature_names[idx]}: 权重绝对值={np.abs(sklearn_model.coef_[0][idx]):.3f}\")\n",
    "                          "
   ]
  },
  {
   "cell_type": "code",
   "execution_count": null,
   "id": "feb721ba",
   "metadata": {},
   "outputs": [],
   "source": []
  }
 ],
 "metadata": {
  "kernelspec": {
   "display_name": "Python 3 (ipykernel)",
   "language": "python",
   "name": "python3"
  },
  "language_info": {
   "codemirror_mode": {
    "name": "ipython",
    "version": 3
   },
   "file_extension": ".py",
   "mimetype": "text/x-python",
   "name": "python",
   "nbconvert_exporter": "python",
   "pygments_lexer": "ipython3",
   "version": "3.11.11"
  }
 },
 "nbformat": 4,
 "nbformat_minor": 5
}
